{
  "cells": [
    {
      "cell_type": "markdown",
      "metadata": {
        "id": "cOipETopK0vl"
      },
      "source": [
        "# Pandas: Location access and slice"
      ]
    },
    {
      "cell_type": "markdown",
      "metadata": {
        "id": "fy37dqr9WVzx"
      },
      "source": [
        "The curated COVID-19/Luxembourg covid is at https://github.com/MADS-PY-R-2021/covidsets/blob/main/luxembourg_covid19_covid.csv"
      ]
    },
    {
      "cell_type": "markdown",
      "metadata": {
        "id": "_RzYWBWwCrfV"
      },
      "source": [
        "##### Create the DataFrame with the code below"
      ]
    },
    {
      "cell_type": "code",
      "execution_count": null,
      "metadata": {
        "colab": {
          "base_uri": "https://localhost:8080/",
          "height": 513
        },
        "id": "k8b3bk0jA17U",
        "outputId": "55c8150b-cd0f-46be-a7ba-9ff226f85c77"
      },
      "outputs": [],
      "source": [
        "# importing pandas and numpy\n",
        "import pandas as pd\n",
        "import numpy as np\n",
        "\n",
        "# crete a sample covidframe\n",
        "covid = pd.read_csv(\"https://raw.githubusercontent.com/MADS-PY-R-2021/datasets/main/luxembourg_covid19_data.csv\")\n"
      ]
    },
    {
      "cell_type": "markdown",
      "metadata": {},
      "source": [
        "##### View the data using the `head()` function"
      ]
    },
    {
      "cell_type": "code",
      "execution_count": null,
      "metadata": {},
      "outputs": [],
      "source": [
        "covid.head()"
      ]
    },
    {
      "cell_type": "markdown",
      "metadata": {},
      "source": [
        "##### Rename the index as 'Dated'.\n",
        "Also drop the currently index."
      ]
    },
    {
      "cell_type": "code",
      "execution_count": null,
      "metadata": {
        "id": "ADRuhndNO6lz"
      },
      "outputs": [],
      "source": [
        "covid.set_index('Dated', inplace=True)\n",
        "covid.drop('Unnamed: 0',axis=1, inplace=True)"
      ]
    },
    {
      "cell_type": "code",
      "execution_count": null,
      "metadata": {
        "colab": {
          "base_uri": "https://localhost:8080/",
          "height": 544
        },
        "id": "nmVoEeIUQcii",
        "outputId": "ea5f785f-23b2-4dc6-f9c4-978bc859b0af"
      },
      "outputs": [],
      "source": [
        "covid"
      ]
    },
    {
      "cell_type": "markdown",
      "metadata": {
        "id": "D9_5vmDrEveu"
      },
      "source": [
        "##### Access the row from  26 Sep. 2021."
      ]
    },
    {
      "cell_type": "code",
      "execution_count": null,
      "metadata": {
        "colab": {
          "base_uri": "https://localhost:8080/"
        },
        "id": "6OBDPEEBOzDv",
        "outputId": "692ff1cf-c3cd-4b1f-a8d2-26fdf59c5613"
      },
      "outputs": [],
      "source": [
        "covid.loc['2021-09-26']"
      ]
    },
    {
      "cell_type": "markdown",
      "metadata": {},
      "source": [
        "##### Access the `Normal care` value from that day. \n",
        "What it it's type?"
      ]
    },
    {
      "cell_type": "code",
      "execution_count": null,
      "metadata": {
        "colab": {
          "base_uri": "https://localhost:8080/"
        },
        "id": "S2FxGotBRWr5",
        "outputId": "4efb7e31-0812-4656-821a-dd4f455d218c"
      },
      "outputs": [],
      "source": []
    },
    {
      "cell_type": "markdown",
      "metadata": {
        "id": "ls4zIl6qC3R0"
      },
      "source": [
        "##### Find all days with five of more cases in Intensive Care"
      ]
    },
    {
      "cell_type": "code",
      "execution_count": null,
      "metadata": {
        "colab": {
          "background_save": true,
          "base_uri": "https://localhost:8080/",
          "height": 507
        },
        "id": "tqRzpyziCyNM",
        "outputId": "5ebd2233-9709-48f3-8827-b39e0e001480"
      },
      "outputs": [],
      "source": []
    },
    {
      "cell_type": "markdown",
      "metadata": {
        "id": "7KIhvmqAC9qs"
      },
      "source": [
        "##### Find all rows with more than 5 cases in intensive care and with one or more deaths"
      ]
    },
    {
      "cell_type": "code",
      "execution_count": null,
      "metadata": {
        "colab": {
          "base_uri": "https://localhost:8080/",
          "height": 507
        },
        "id": "z_aS3yPkDHNs",
        "outputId": "d8a8991f-abe2-4f59-9df3-ea36d997af6a"
      },
      "outputs": [],
      "source": []
    },
    {
      "cell_type": "markdown",
      "metadata": {
        "id": "-g6iOsD4DMMC"
      },
      "source": [
        "##### Select all days between the the 3rd and the 9th of September 2021"
      ]
    },
    {
      "cell_type": "code",
      "execution_count": null,
      "metadata": {
        "colab": {
          "base_uri": "https://localhost:8080/",
          "height": 729
        },
        "id": "opRHne8QDR1l",
        "outputId": "5baa70b6-bfb6-4a30-8aca-47caca8308fd"
      },
      "outputs": [],
      "source": []
    },
    {
      "cell_type": "markdown",
      "metadata": {
        "id": "DzZZ7HTvDWQn"
      },
      "source": [
        "##### Select the columns Normal care and Intensive care on days in September 2020"
      ]
    },
    {
      "cell_type": "code",
      "execution_count": null,
      "metadata": {
        "colab": {
          "base_uri": "https://localhost:8080/",
          "height": 455
        },
        "id": "He0LjIDVDcJu",
        "outputId": "1b469eab-c41e-4134-d9de-46b848e02eb5"
      },
      "outputs": [],
      "source": []
    },
    {
      "cell_type": "markdown",
      "metadata": {
        "id": "0RD5wz8qDlJR"
      },
      "source": [
        "##### Create a new column labeled \"hospital_load\" \n",
        "Set it to  `True` if `Intensive care` >= 5  "
      ]
    },
    {
      "cell_type": "code",
      "execution_count": null,
      "metadata": {
        "colab": {
          "base_uri": "https://localhost:8080/",
          "height": 525
        },
        "id": "mDKWiqFlDqy9",
        "outputId": "d8cf5556-7938-4836-fbf1-c5c9d0211393"
      },
      "outputs": [],
      "source": []
    },
    {
      "cell_type": "markdown",
      "metadata": {
        "id": "Qqd1AQJdD2lA"
      },
      "source": [
        "##### Select rows that are from each 30 days apart"
      ]
    },
    {
      "cell_type": "code",
      "execution_count": null,
      "metadata": {
        "colab": {
          "base_uri": "https://localhost:8080/",
          "height": 276
        },
        "id": "8NOe34t6EHnz",
        "outputId": "96720bca-8df8-4925-c9bf-439aae3372b0"
      },
      "outputs": [],
      "source": [
        "# select rows with indices\n"
      ]
    },
    {
      "cell_type": "markdown",
      "metadata": {},
      "source": [
        "##### Replace `NaN` values in the care columns with 0."
      ]
    },
    {
      "cell_type": "code",
      "execution_count": null,
      "metadata": {},
      "outputs": [],
      "source": []
    },
    {
      "cell_type": "markdown",
      "metadata": {},
      "source": [
        "##### Compute the total number of Hospital discharges"
      ]
    },
    {
      "cell_type": "code",
      "execution_count": null,
      "metadata": {},
      "outputs": [],
      "source": []
    },
    {
      "cell_type": "markdown",
      "metadata": {},
      "source": [
        "##### Find the day with the highest Number of tests performed."
      ]
    }
  ],
  "metadata": {
    "colab": {
      "include_colab_link": true,
      "provenance": [],
      "toc_visible": true
    },
    "kernelspec": {
      "display_name": "Python 3.8.8 ('setup1': venv)",
      "language": "python",
      "name": "python3"
    },
    "language_info": {
      "codemirror_mode": {
        "name": "ipython",
        "version": 3
      },
      "file_extension": ".py",
      "mimetype": "text/x-python",
      "name": "python",
      "nbconvert_exporter": "python",
      "pygments_lexer": "ipython3",
      "version": "3.8.8"
    },
    "vscode": {
      "interpreter": {
        "hash": "1acc5a27c0fabb6ba2d532160922678d7bf3255f4ad3e5772c1650d6db6b14ba"
      }
    }
  },
  "nbformat": 4,
  "nbformat_minor": 0
}
